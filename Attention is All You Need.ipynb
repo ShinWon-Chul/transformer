{
 "cells": [
  {
   "cell_type": "markdown",
   "metadata": {},
   "source": [
    "## Attention is All You Need 실습\n",
    "\n",
    "![](assets/transformer1.png)\n",
    "* 본 코드는 [Attention is All You Need](https://arxiv.org/abs/1706.03762) 논문을 최대한 따릅니다.\n",
    "* https://github.com/bentrevett/pytorch-seq2seq 를 참조하여 작성 되었습니다.\n"
   ]
  },
  {
   "cell_type": "code",
   "execution_count": 1,
   "metadata": {},
   "outputs": [],
   "source": [
    "import torch\n",
    "import torch.nn as nn\n",
    "import torch.optim as optim\n",
    "\n",
    "import torchtext\n",
    "# Multi30k - 대표적인 영어-독어 번역 데이터셋(dataset)\n",
    "from torchtext.legacy.datasets import Multi30k \n",
    "# Field - 데이터 전처리를 위한 조건 설정(tokenizing)\n",
    "#BucketIterator - 각각의 새로운 epoch에 대해 데이터 random shiffle\n",
    "#한 batch에 비슷한 길이의 문장들이 들어가도록하는 iterator(padding의 양을 최소화)\n",
    "from torchtext.legacy.data import Field, BucketIterator \n",
    "\n",
    "\n",
    "import matplotlib.pyplot as plt\n",
    "import matplotlib.ticker as ticker\n",
    "\n",
    "# spacy - 문장의 토큰화 태깅과 같은 전처리 기능을 위한 라이브러리\n",
    "import spacy \n",
    "import numpy as np\n",
    "\n",
    "import random\n",
    "import math\n",
    "import time"
   ]
  },
  {
   "cell_type": "code",
   "execution_count": 2,
   "metadata": {},
   "outputs": [],
   "source": [
    "SEED = 1234\n",
    "\n",
    "random.seed(SEED)\n",
    "np.random.seed(SEED)\n",
    "torch.manual_seed(SEED)\n",
    "torch.cuda.manual_seed(SEED)\n",
    "torch.backends.cudnn.deterministic = True"
   ]
  },
  {
   "cell_type": "markdown",
   "metadata": {},
   "source": [
    "* spacy 라이브러리: 문장의 토큰화(tokenization), 태깅(tagging) 등의 전처리 기능을 위한 라이브러리  \n",
    " * 영어(Engilsh)와 독일어(Deutsch) tokenizer 정의  \n",
    "spacy_de = https://spacy.io/models/de#de_core_news_md (news, media)  \n",
    "spacy_en = https://spacy.io/models/en#en_core_web_sm (blogs, news, comments)"
   ]
  },
  {
   "cell_type": "code",
   "execution_count": 3,
   "metadata": {},
   "outputs": [],
   "source": [
    "# Load German,English tokenizer, tagger, parser and NER\n",
    "spacy_de = spacy.load('de_core_news_sm') # 독일어 토큰화(tokenization)\n",
    "spacy_en = spacy.load('en_core_web_sm') # 영어 토큰화(tokenization) "
   ]
  },
  {
   "cell_type": "markdown",
   "metadata": {},
   "source": [
    "* 영어(English) 및 독일어 토큰화 함수 정의"
   ]
  },
  {
   "cell_type": "code",
   "execution_count": 4,
   "metadata": {},
   "outputs": [],
   "source": [
    "def tokenize_de(text):\n",
    "    \"\"\"\n",
    "    Tokenizes German text from a string into a list of strings\n",
    "    \"\"\"\n",
    "    return [tok.text for tok in spacy_de.tokenizer(text)]\n",
    "\n",
    "def tokenize_en(text):\n",
    "    \"\"\"\n",
    "    Tokenizes English text from a string into a list of strings\n",
    "    \"\"\"\n",
    "    return [tok.text for tok in spacy_en.tokenizer(text)]"
   ]
  },
  {
   "cell_type": "code",
   "execution_count": 5,
   "metadata": {},
   "outputs": [
    {
     "name": "stdout",
     "output_type": "stream",
     "text": [
      "I am a graduate student.\n",
      "인덱스 0: I\n",
      "인덱스 1: am\n",
      "인덱스 2: a\n",
      "인덱스 3: graduate\n",
      "인덱스 4: student\n",
      "인덱스 5: .\n"
     ]
    }
   ],
   "source": [
    "#spacy tokenizer testing\n",
    "# 간단히 토큰화(tokenization) 기능 써보기 (입력 텍스트를 영어 토큰으로 분리)\n",
    "tokenized = spacy_en.tokenizer(\"I am a graduate student.\")\n",
    "print(tokenized)\n",
    "for i, token in enumerate(tokenized):\n",
    "    print(f\"인덱스 {i}: {token.text}\")"
   ]
  },
  {
   "cell_type": "markdown",
   "metadata": {},
   "source": [
    "#### torchtext.Field()\n",
    "* 데이터셋에 대한 구체적인 전처리 내용을 명시한 필드(field) 객체 생성\n",
    "* batch_fisrt = [Batch_size, Seq_len, Hidden_size] 형태로 feed 하기 위해 True로 설정\n",
    "* 번역 목표\n",
    "    * SRC(소스) : 독일어\n",
    "    * 목표(TRG) : 영어"
   ]
  },
  {
   "cell_type": "code",
   "execution_count": 6,
   "metadata": {},
   "outputs": [],
   "source": [
    "SRC = Field(tokenize = tokenize_de, #spacy tokenizer를 사용하는 tokenizer function\n",
    "            init_token = '<sos>', #문장 시작에 삽입할 토큰 Default: None \n",
    "            eos_token = '<eos>', #문장 끝에 삽입할 토큰 Default: None\n",
    "            lower = True, #텍스트를 소문자로 할지 여부\n",
    "            batch_first = True)\n",
    "\n",
    "TRG = Field(tokenize = tokenize_en, \n",
    "            init_token = '<sos>', \n",
    "            eos_token = '<eos>', \n",
    "            lower = True, \n",
    "            batch_first = True)"
   ]
  },
  {
   "cell_type": "markdown",
   "metadata": {},
   "source": [
    "#### Multi30k.splits() \n",
    "* 대표적인 영어-독어 번역 데이터셋인 Multi30k를 불러온다.\n",
    "\n",
    "Create dataset objects for splits of the Multi30k dataset.  \n",
    "Parameters:\t\n",
    "* exts – A tuple containing the extension to path for each language.  \n",
    "* fields – A tuple containing the fields that will be used for data in each language.  \n",
    "* root – Root dataset storage directory. Default is ‘.data’.\n",
    "* train – The prefix of the train data. Default: ‘train’.\n",
    "* validation – The prefix of the validation data. Default: ‘val’.\n",
    "* test – The prefix of the test data. Default: ‘test’.\n",
    "* keyword arguments (Remaining) – Passed to the splits method of Dataset."
   ]
  },
  {
   "cell_type": "code",
   "execution_count": 7,
   "metadata": {},
   "outputs": [],
   "source": [
    "train_data, valid_data, test_data = Multi30k.splits(exts = ('.de', '.en'), \n",
    "                                                    fields = (SRC, TRG))"
   ]
  },
  {
   "cell_type": "code",
   "execution_count": 8,
   "metadata": {},
   "outputs": [
    {
     "name": "stdout",
     "output_type": "stream",
     "text": [
      "학습 데이터셋(training dataset) 크기: 29000개\n",
      "평가 데이터셋(validation dataset) 크기: 1014개\n",
      "테스트 데이터셋(testing dataset) 크기: 1000개\n"
     ]
    }
   ],
   "source": [
    "#testing\n",
    "print(f\"학습 데이터셋(training dataset) 크기: {len(train_data.examples)}개\")\n",
    "print(f\"평가 데이터셋(validation dataset) 크기: {len(valid_data.examples)}개\")\n",
    "print(f\"테스트 데이터셋(testing dataset) 크기: {len(test_data.examples)}개\")"
   ]
  },
  {
   "cell_type": "code",
   "execution_count": 9,
   "metadata": {},
   "outputs": [
    {
     "name": "stdout",
     "output_type": "stream",
     "text": [
      "['ein', 'mann', ',', 'der', 'mit', 'einer', 'tasse', 'kaffee', 'an', 'einem', 'urinal', 'steht', '.']\n",
      "['a', 'man', 'standing', 'at', 'a', 'urinal', 'with', 'a', 'coffee', 'cup', '.']\n"
     ]
    }
   ],
   "source": [
    "# 학습 데이터 중 하나를 선택해 출력\n",
    "print(vars(train_data.examples[30])['src'])\n",
    "print(vars(train_data.examples[30])['trg'])"
   ]
  },
  {
   "cell_type": "markdown",
   "metadata": {},
   "source": [
    "* 필드(field) 객체의 build_vocab 메서드를 이용해 영어와 독어의 단어 사전을 생성한다.  \n",
    "    * 최소 2번 이상 등장한 단어만을 선택"
   ]
  },
  {
   "cell_type": "code",
   "execution_count": 10,
   "metadata": {},
   "outputs": [
    {
     "name": "stdout",
     "output_type": "stream",
     "text": [
      "len(SRC): 7853\n",
      "len(TRG): 5893\n"
     ]
    }
   ],
   "source": [
    "SRC.build_vocab(train_data, min_freq = 2)\n",
    "TRG.build_vocab(train_data, min_freq = 2)\n",
    "#testing\n",
    "print(f\"len(SRC): {len(SRC.vocab)}\")\n",
    "print(f\"len(TRG): {len(TRG.vocab)}\")"
   ]
  },
  {
   "cell_type": "code",
   "execution_count": 11,
   "metadata": {},
   "outputs": [
    {
     "name": "stdout",
     "output_type": "stream",
     "text": [
      "0\n",
      "1\n",
      "2\n",
      "3\n",
      "4112\n",
      "1752\n"
     ]
    }
   ],
   "source": [
    "#testing\n",
    "print(TRG.vocab.stoi[\"abcabc\"]) # 없는 단어: 0\n",
    "print(TRG.vocab.stoi[TRG.pad_token]) # 패딩(padding): 1\n",
    "print(TRG.vocab.stoi[\"<sos>\"]) # <sos>: 2\n",
    "print(TRG.vocab.stoi[\"<eos>\"]) # <eos>: 3\n",
    "print(TRG.vocab.stoi[\"hello\"])\n",
    "print(TRG.vocab.stoi[\"world\"])"
   ]
  },
  {
   "cell_type": "markdown",
   "metadata": {},
   "source": [
    "* 한 문장에 포함된 단어가 순서대로 나열된 상태로 네트워크에 입력되어야 합니다.\n",
    "    * 따라서 하나의 배치에 포함된 문장들이 가지는 단어의 개수가 유사하도록 만들면 좋습니다.\n",
    "    * 이를 위해 BucketIterator를 사용합니다.\n",
    "    * 배치 크기(batch size): 128"
   ]
  },
  {
   "cell_type": "code",
   "execution_count": 12,
   "metadata": {},
   "outputs": [],
   "source": [
    "device = torch.device('cuda' if torch.cuda.is_available() else 'cpu')\n",
    "BATCH_SIZE = 128\n",
    "\n",
    "train_iterator, valid_iterator, test_iterator = BucketIterator.splits(\n",
    "    (train_data, valid_data, test_data), \n",
    "     batch_size = BATCH_SIZE,\n",
    "     device = device)"
   ]
  },
  {
   "cell_type": "code",
   "execution_count": 13,
   "metadata": {},
   "outputs": [
    {
     "name": "stdout",
     "output_type": "stream",
     "text": [
      "tensor([[   2,    8,   16,  ...,    1,    1,    1],\n",
      "        [   2,   54, 1551,  ...,    1,    1,    1],\n",
      "        [   2,    5,  717,  ...,    1,    1,    1],\n",
      "        ...,\n",
      "        [   2,    8,   36,  ...,    1,    1,    1],\n",
      "        [   2,    5,   13,  ...,    1,    1,    1],\n",
      "        [   2,    5,   13,  ...,    1,    1,    1]], device='cuda:0')\n"
     ]
    }
   ],
   "source": [
    "#train_iterator testing\n",
    "for i, batch in enumerate(train_iterator):\n",
    "    src = batch.src\n",
    "    trg = batch.trg\n",
    "    print(src)\n",
    "    break"
   ]
  },
  {
   "cell_type": "code",
   "execution_count": 14,
   "metadata": {},
   "outputs": [
    {
     "name": "stdout",
     "output_type": "stream",
     "text": [
      "첫 번째 배치 크기: torch.Size([128, 33])\n",
      "src 인덱스 정보\n",
      "인덱스 0: 2\n",
      "인덱스 1: 8\n",
      "인덱스 2: 67\n",
      "인덱스 3: 217\n",
      "인덱스 4: 12\n",
      "인덱스 5: 33\n",
      "인덱스 6: 214\n",
      "인덱스 7: 9\n",
      "인덱스 8: 35\n",
      "인덱스 9: 17\n",
      "인덱스 10: 101\n",
      "인덱스 11: 17\n",
      "인덱스 12: 998\n",
      "인덱스 13: 20\n",
      "인덱스 14: 1784\n",
      "인덱스 15: 93\n",
      "인덱스 16: 4\n",
      "인덱스 17: 3\n",
      "인덱스 18: 1\n",
      "인덱스 19: 1\n",
      "인덱스 20: 1\n",
      "인덱스 21: 1\n",
      "인덱스 22: 1\n",
      "인덱스 23: 1\n",
      "인덱스 24: 1\n",
      "인덱스 25: 1\n",
      "인덱스 26: 1\n",
      "인덱스 27: 1\n",
      "인덱스 28: 1\n",
      "인덱스 29: 1\n",
      "인덱스 30: 1\n",
      "인덱스 31: 1\n",
      "인덱스 32: 1\n",
      "\n",
      "trg 인덱스 정보\n",
      "인덱스 0: 2\n",
      "인덱스 1: 4\n",
      "인덱스 2: 64\n",
      "인덱스 3: 3177\n",
      "인덱스 4: 7\n",
      "인덱스 5: 166\n",
      "인덱스 6: 28\n",
      "인덱스 7: 82\n",
      "인덱스 8: 4061\n",
      "인덱스 9: 8\n",
      "인덱스 10: 421\n",
      "인덱스 11: 5\n",
      "인덱스 12: 3\n",
      "인덱스 13: 1\n",
      "인덱스 14: 1\n",
      "인덱스 15: 1\n",
      "인덱스 16: 1\n",
      "인덱스 17: 1\n",
      "인덱스 18: 1\n",
      "인덱스 19: 1\n",
      "인덱스 20: 1\n",
      "인덱스 21: 1\n",
      "인덱스 22: 1\n",
      "인덱스 23: 1\n",
      "인덱스 24: 1\n",
      "인덱스 25: 1\n",
      "인덱스 26: 1\n",
      "인덱스 27: 1\n",
      "인덱스 28: 1\n",
      "인덱스 29: 1\n",
      "인덱스 30: 1\n",
      "인덱스 31: 1\n",
      "인덱스 32: 1\n",
      "인덱스 33: 1\n",
      "인덱스 34: 1\n"
     ]
    }
   ],
   "source": [
    "#train_iterator testing\n",
    "for i, batch in enumerate(train_iterator):\n",
    "    src = batch.src\n",
    "    trg = batch.trg\n",
    "\n",
    "    print(f\"첫 번째 배치 크기: {src.shape}\")\n",
    "\n",
    "    # 현재 배치에 있는 하나의 문장에 포함된 정보 출력\n",
    "    print(\"src 인덱스 정보\")\n",
    "    for i in range(src.shape[1]):\n",
    "        print(f\"인덱스 {i}: {src[0][i].item()}\") # 여기에서는 [Seq_num, Seq_len]\n",
    "    print(\"\\ntrg 인덱스 정보\")\n",
    "    for i in range(trg.shape[1]):\n",
    "        print(f\"인덱스 {i}: {trg[0][i].item()}\") # 여기에서는 [Seq_num, Seq_len]\n",
    "    # 첫 번째 배치만 확인\n",
    "    break"
   ]
  },
  {
   "cell_type": "markdown",
   "metadata": {},
   "source": [
    "### 인코더(Encoder) 아키텍처\n",
    "\n",
    "![](assets/transformer-encoder.png)\n",
    "\n",
    "* 전체 인코더 아키텍처를 정의합니다.\n",
    "* 하이퍼 파라미터(hyperparameter)\n",
    "    * input_dim: 하나의 단어에 대한 원 핫 인코딩 차원(input vocab size)\n",
    "    * hidden_dim: 하나의 단어에 대한 임베딩 차원\n",
    "    * n_layers: 내부적으로 사용할 인코더 레이어의 개수\n",
    "    * n_heads: 헤드(head)의 개수 = scaled dot-product attention의 개수\n",
    "    * pf_dim: Feedforward 레이어에서의 내부 임베딩 차원\n",
    "    * dropout_ratio: 드롭아웃(dropout) 비율\n",
    "    * max_length: 문장 내 최대 단어 개수\n",
    "* 원본 논문과는 다르게 위치 임베딩(positional embedding)을 학습하는 형태로 구현합니다.\n",
    "    * BERT와 같은 모던 트랜스포머 아키텍처에서 사용되는 방식입니다.\n",
    "* < pad > 토큰에 대하여 마스크(mask) 값을 0으로 설정합니다."
   ]
  },
  {
   "cell_type": "code",
   "execution_count": 15,
   "metadata": {},
   "outputs": [],
   "source": [
    "class Encoder(nn.Module):\n",
    "    def __init__(self, input_dim, hid_dim, n_layers, n_heads, pf_dim, dropout, device, max_length = 100):\n",
    "        super().__init__()\n",
    "        self.device = device\n",
    "        self.tok_embedding = nn.Embedding(input_dim, hid_dim) # word embedding\n",
    "        self.pos_embedding = nn.Embedding(max_length, hid_dim) # positional embedding\n",
    "        \n",
    "        #encoder(slef attentino, residual connection, layer normalization, FFNN) 쌓기\n",
    "        self.layers = nn.ModuleList([EncoderLayer(hid_dim, n_heads, pf_dim, dropout, device) for _ in range(n_layers)]) \n",
    "        \n",
    "        self.dropout = nn.Dropout(dropout) \n",
    "        \n",
    "        self.scale = torch.sqrt(torch.FloatTensor([hid_dim])).to(device) #데이터의 분산을 줄이기 위한 scaling factor로 추정\n",
    "        \n",
    "    def forward(self, src, src_mask):\n",
    "        \n",
    "        # src = [batch size, src len]\n",
    "        # src_mask = [batch size, 1, 1, src len]\n",
    "        \n",
    "        batch_size = src.shape[0]\n",
    "        src_len = src.shape[1] \n",
    "        \n",
    "        pos = torch.arange(0, src_len).unsqueeze(0).repeat(batch_size, 1).to(self.device)\n",
    "        \n",
    "        # pos = [batch size, src len] : position\n",
    "        \n",
    "        src = self.dropout((self.tok_embedding(src) * self.scale) + self.pos_embedding(pos))\n",
    "        \n",
    "        # src = [batch size, src len, hid dim] : tocken embedding + positional embedding\n",
    "        # src_mask = padding masking\n",
    "        \n",
    "        for layer in self.layers:\n",
    "            src = layer(src, src_mask) \n",
    "            \n",
    "        #src = [batch size, src len, hid dim]\n",
    "            \n",
    "        return src"
   ]
  },
  {
   "cell_type": "markdown",
   "metadata": {},
   "source": [
    "### 인코더(Encoder) 레이어 아키텍처\n",
    "* 하나의 인코더 레이어에 대해 정의합니다.\n",
    "    * 입력과 출력의 차원이 같습니다.\n",
    "    * 이러한 특징을 이용해 트랜스포머의 인코더는 인코더 레이어를 여러 번 중첩해 사용합니다.\n",
    "* 하이퍼 파라미터(hyperparameter)\n",
    "    * hidden_dim: 하나의 단어에 대한 임베딩 차원\n",
    "    * n_heads: 헤드(head)의 개수 = scaled dot-product attention의 개수\n",
    "    * pf_dim: Feedforward 레이어에서의 내부 임베딩 차원\n",
    "    * dropout_ratio: 드롭아웃(dropout) 비율\n",
    "* <pad> 토큰에 대하여 마스크(mask) 값을 0으로 설정합니다."
   ]
  },
  {
   "cell_type": "code",
   "execution_count": 16,
   "metadata": {},
   "outputs": [],
   "source": [
    "class EncoderLayer(nn.Module):\n",
    "    def __init__(self, hid_dim, n_heads, pf_dim, dropout, device):\n",
    "        super().__init__()\n",
    "        \n",
    "        self.self_attn_layer_norm = nn.LayerNorm(hid_dim)\n",
    "        self.ff_layer_norm = nn.LayerNorm(hid_dim)\n",
    "        self.self_attention = MultiHeadAttentionLayer(hid_dim, n_heads, dropout, device)\n",
    "        self.positionwise_feedforward = PositionwiseFeedforwardLayer(hid_dim, pf_dim, dropout)\n",
    "        self.dropout = nn.Dropout(dropout)\n",
    "        \n",
    "    def forward(self, src, src_mask):\n",
    "        \n",
    "        #src = [batch size, src len, hid dim]\n",
    "        #src_mask = [batch size, 1, 1, src len] \n",
    "                \n",
    "        #self attention - 입력 문장 내에 있는 단어들 간의 연관성계산\n",
    "        _src, _ = self.self_attention(src, src, src, src_mask)\n",
    "        \n",
    "        #dropout, residual connection and layer norm\n",
    "        src = self.self_attn_layer_norm(src + self.dropout(_src))\n",
    "        \n",
    "        #src = [batch size, src len, hid dim]\n",
    "        \n",
    "        #positionwise feedforward\n",
    "        _src = self.positionwise_feedforward(src)\n",
    "        \n",
    "        #dropout, residual and layer norm\n",
    "        src = self.ff_layer_norm(src + self.dropout(_src))\n",
    "        \n",
    "        #src = [batch size, src len, hid dim]\n",
    "        \n",
    "        return src"
   ]
  },
  {
   "cell_type": "markdown",
   "metadata": {},
   "source": [
    "### Multi Head Attention 아키텍처\n",
    "\n",
    "![](assets/transformer-attention.png)\n",
    "$$ \\text{Attention}(Q, K, V) = \\text{Softmax} \\big( \\frac{QK^T}{\\sqrt{d_k}} \\big)V $$ \n",
    "$$ \\text{MultiHead}(Q, K, V) = \\text{Concat}(\\text{head}_1,...,\\text{head}_h)W^O $$\n",
    "* 어텐션(attention)은 세 가지 요소를 입력으로 받습니다.\n",
    "    * 쿼리(queries) - 내적(유사도)을 구할 단어\n",
    "    * 키(keys) - 쿼리(queries) 단어와 내적(유사도)를 구할 단어들\n",
    "    * 값(values) - 쿼리(queries)와 키(keys) 간의 유사도가 적용된 단어 벡터들 (weighted sum)\n",
    "    * 현재 구현에서는 Query, Key, Value의 차원이 모두 같습니다.\n",
    "* 하이퍼 파라미터(hyperparameter)\n",
    "    * hidden_dim: 하나의 단어에 대한 임베딩 차원\n",
    "    * n_heads: 헤드(head)의 개수 = scaled dot-product attention의 개수\n",
    "    * dropout_ratio: 드롭아웃(dropout) 비율"
   ]
  },
  {
   "cell_type": "code",
   "execution_count": 17,
   "metadata": {},
   "outputs": [],
   "source": [
    "class MultiHeadAttentionLayer(nn.Module):\n",
    "    def __init__(self, hid_dim, n_heads, dropout, device):\n",
    "        super().__init__()\n",
    "        \n",
    "        assert hid_dim % n_heads == 0\n",
    "        \n",
    "        self.hid_dim = hid_dim\n",
    "        self.n_heads = n_heads\n",
    "        self.head_dim = hid_dim // n_heads\n",
    "        \n",
    "        self.fc_q = nn.Linear(hid_dim, hid_dim) # encoder 입력으로부터 query matrix를 얻을 weight matrix\n",
    "        self.fc_k = nn.Linear(hid_dim, hid_dim) # encoder 입력으로부터 key matrix를 얻을 weight matrix\n",
    "        self.fc_v = nn.Linear(hid_dim, hid_dim) # encoder 입력으로부터 vlaue matrix를 얻을 weight matrix\n",
    "        \n",
    "        self.fc_o = nn.Linear(hid_dim, hid_dim) # encoder의 FFNN입력을 생성하기 위한 wegith matrix\n",
    "        \n",
    "        self.dropout = nn.Dropout(dropout)\n",
    "        \n",
    "        self.scale = torch.sqrt(torch.FloatTensor([self.head_dim])).to(device)\n",
    "        \n",
    "    def forward(self, query, key, value, mask = None):\n",
    "        \n",
    "        batch_size = query.shape[0]\n",
    "        \n",
    "        #query = [batch size, query len, hid dim]\n",
    "        #key = [batch size, key len, hid dim]\n",
    "        #value = [batch size, value len, hid dim]\n",
    "                \n",
    "        Q = self.fc_q(query)\n",
    "        K = self.fc_k(key)\n",
    "        V = self.fc_v(value)\n",
    "        \n",
    "        #Q = [batch size, query len, hid dim]\n",
    "        #K = [batch size, key len, hid dim]\n",
    "        #V = [batch size, value len, hid dim]\n",
    "                \n",
    "        Q = Q.view(batch_size, -1, self.n_heads, self.head_dim).permute(0, 2, 1, 3)\n",
    "        K = K.view(batch_size, -1, self.n_heads, self.head_dim).permute(0, 2, 1, 3)\n",
    "        V = V.view(batch_size, -1, self.n_heads, self.head_dim).permute(0, 2, 1, 3)\n",
    "        \n",
    "        #Q = [batch size, n heads, query len, head dim]\n",
    "        #K = [batch size, n heads, key len, head dim]\n",
    "        #V = [batch size, n heads, value len, head dim]\n",
    "                \n",
    "        energy = torch.matmul(Q, K.permute(0, 1, 3, 2)) / self.scale # transpose K\n",
    "        #Q = [batch size, n heads, query len, head dim] \n",
    "        #K = [batch size, n heads, head dim, key len] \n",
    "        #energy = [batch size, n heads, query len, key len] \n",
    "        \n",
    "        if mask is not None: #src_mask = [batch size, 1, 1, src len] < PAD >와 < PAD >간에 유사도 무시\n",
    "            # encoder : padding maxk, decoder : padding maxk + look-ahead mask\n",
    "            energy = energy.masked_fill(mask == 0, -1e10) \n",
    "        \n",
    "        attention = torch.softmax(energy, dim = -1) # 가장 마지막 차원(각 단어에대한 attention score)의 어텐션 분포 구하기\n",
    "                \n",
    "        #attention = [batch size, n heads, query len, key len]\n",
    "                \n",
    "        x = torch.matmul(self.dropout(attention), V) #V 와 weighted sum 하여 (attention value)context vector 구하기\n",
    "        \n",
    "        #x = [batch size, n heads, query len, head dim] 각각의 row는 query에 해당하는 단어와 모든단어간의 가중합된 vector\n",
    "        \n",
    "        x = x.permute(0, 2, 1, 3).contiguous()\n",
    "        \n",
    "        #x = [batch size, query len, n heads, head dim]\n",
    "        \n",
    "        x = x.view(batch_size, -1, self.hid_dim)\n",
    "        \n",
    "        #x = [batch size, query len, hid dim]\n",
    "        \n",
    "        x = self.fc_o(x)\n",
    "        \n",
    "        #x = [batch size, query len, hid dim]\n",
    "        \n",
    "        return x, attention"
   ]
  },
  {
   "cell_type": "markdown",
   "metadata": {},
   "source": [
    "### Position-wise Feedforward 아키텍처\n",
    "* 입력과 출력의 차원이 동일합니다.\n",
    "* 하이퍼 파라미터(hyperparameter)\n",
    "    * hidden_dim: 하나의 단어에 대한 임베딩 차원\n",
    "    * pf_dim: Feedforward 레이어에서의 내부 임베딩 차원\n",
    "    * dropout_ratio: 드롭아웃(dropout) 비율"
   ]
  },
  {
   "cell_type": "code",
   "execution_count": 18,
   "metadata": {},
   "outputs": [],
   "source": [
    "class PositionwiseFeedforwardLayer(nn.Module):\n",
    "    def __init__(self, hid_dim, pf_dim, dropout):\n",
    "        super().__init__()\n",
    "        \n",
    "        self.fc_1 = nn.Linear(hid_dim, pf_dim)\n",
    "        self.fc_2 = nn.Linear(pf_dim, hid_dim)\n",
    "        \n",
    "        self.dropout = nn.Dropout(dropout)\n",
    "        \n",
    "    def forward(self, x):\n",
    "        \n",
    "        #x = [batch size, seq len, hid dim]\n",
    "        \n",
    "        x = self.dropout(torch.relu(self.fc_1(x)))\n",
    "        \n",
    "        #x = [batch size, seq len, pf dim]\n",
    "        \n",
    "        x = self.fc_2(x)\n",
    "        \n",
    "        #x = [batch size, seq len, hid dim]\n",
    "        \n",
    "        return x"
   ]
  },
  {
   "cell_type": "markdown",
   "metadata": {},
   "source": [
    "### 디코더(Decoder) 아키텍처\n",
    "\n",
    "![](assets/transformer-decoder.png)\n",
    "\n",
    "* 전체 디코더 아키텍처를 정의합니다.\n",
    "* 하이퍼 파라미터(hyperparameter)\n",
    "    * output_dim: 하나의 단어에 대한 원 핫 인코딩 차원(output vocab size)\n",
    "    * hidden_dim: 하나의 단어에 대한 임베딩 차원\n",
    "    * n_layers: 내부적으로 사용할 인코더 레이어의 개수\n",
    "    * n_heads: 헤드(head)의 개수 = scaled dot-product attention의 개수\n",
    "    * pf_dim: Feedforward 레이어에서의 내부 임베딩 차원\n",
    "    * dropout_ratio: 드롭아웃(dropout) 비율\n",
    "    * max_length: 문장 내 최대 단어 개수\n",
    "* 원본 논문과는 다르게 위치 임베딩(positional embedding)을 학습하는 형태로 구현합니다.\n",
    "    * BERT와 같은 모던 트랜스포머 아키텍처에서 사용되는 방식입니다.\n",
    "* Seq2Seq과 마찬가지로 실제로 추론(inference) 시기에서는 디코더 입력을 반복적으로 넣을 필요가 있습니다.\n",
    "    * 학습(training) 시기에서는 한 번에 출력 문장을 구해 학습할 수 있습니다.\n",
    "* 소스 문장의 < pad > 토큰에 대하여 마스크(mask) 값을 0으로 설정합니다.\n",
    "* 타겟 문장에서 각 단어는 다음 단어가 무엇인지 알 수 없도록(이전 단어만 보도록) 만들기 위해 마스크를 사용합니다."
   ]
  },
  {
   "cell_type": "code",
   "execution_count": 19,
   "metadata": {},
   "outputs": [],
   "source": [
    "class Decoder(nn.Module):\n",
    "    def __init__(self, output_dim, hid_dim, n_layers, n_heads, pf_dim, dropout, device, max_length = 100):\n",
    "        super().__init__()\n",
    "        \n",
    "        self.device = device\n",
    "        \n",
    "        self.tok_embedding = nn.Embedding(output_dim, hid_dim)\n",
    "        self.pos_embedding = nn.Embedding(max_length, hid_dim)\n",
    "        \n",
    "        self.layers = nn.ModuleList([DecoderLayer(hid_dim, n_heads, pf_dim, dropout, device) for _ in range(n_layers)])\n",
    "        \n",
    "        self.fc_out = nn.Linear(hid_dim, output_dim)\n",
    "        \n",
    "        self.dropout = nn.Dropout(dropout)\n",
    "        \n",
    "        self.scale = torch.sqrt(torch.FloatTensor([hid_dim])).to(device)\n",
    "        \n",
    "    def forward(self, trg, enc_src, trg_mask, src_mask):\n",
    "        \n",
    "        #trg = [batch size, trg len]\n",
    "        #enc_src = [batch size, src len, hid dim]\n",
    "        #trg_mask = [batch size, 1, trg len, trg len]\n",
    "        #src_mask = [batch size, 1, 1, src len]\n",
    "                \n",
    "        batch_size = trg.shape[0]\n",
    "        trg_len = trg.shape[1]\n",
    "        \n",
    "        pos = torch.arange(0, trg_len).unsqueeze(0).repeat(batch_size, 1).to(self.device)\n",
    "                            \n",
    "        #pos = [batch size, trg len]\n",
    "            \n",
    "        trg = self.dropout((self.tok_embedding(trg) * self.scale) + self.pos_embedding(pos))\n",
    "                \n",
    "        #trg = [batch size, trg len, hid dim]\n",
    "        # trg = [batch size, trg len, hid dim] : tocken embedding + positional embedding\n",
    "\n",
    "        for layer in self.layers:\n",
    "            trg, attention = layer(trg, enc_src, trg_mask, src_mask) #enc_src, src_mask 차이\n",
    "        \n",
    "        #trg = [batch size, trg len, hid dim]\n",
    "        #attention = [batch size, n heads, trg len, src len]\n",
    "        \n",
    "        output = self.fc_out(trg)\n",
    "        \n",
    "        #output = [batch size, trg len, output dim]\n",
    "            \n",
    "        return output, attention"
   ]
  },
  {
   "cell_type": "markdown",
   "metadata": {},
   "source": [
    "### 디코더(Decoder) 레이어 아키텍처\n",
    "* 하나의 디코더 레이어에 대해 정의합니다.\n",
    "    * 입력과 출력의 차원이 같습니다.\n",
    "    * 이러한 특징을 이용해 트랜스포머의 디코더는 디코더 레이어를 여러 번 중첩해 사용합니다.\n",
    "    * 디코더 레이어에서는 두 개의 Multi-Head Attention 레이어가 사용됩니다.\n",
    "* 하이퍼 파라미터(hyperparameter)\n",
    "    * hidden_dim: 하나의 단어에 대한 임베딩 차원\n",
    "    * n_heads: 헤드(head)의 개수 = scaled dot-product attention의 개수\n",
    "    * pf_dim: Feedforward 레이어에서의 내부 임베딩 차원\n",
    "    * dropout_ratio: 드롭아웃(dropout) 비율\n",
    "* 소스 문장의 < pad > 토큰에 대하여 마스크(mask) 값을 0으로 설정합니다.\n",
    "* 타겟 문장에서 각 단어는 다음 단어가 무엇인지 알 수 없도록(이전 단어만 보도록) 만들기 위해 마스크를 사용합니다."
   ]
  },
  {
   "cell_type": "code",
   "execution_count": 20,
   "metadata": {},
   "outputs": [],
   "source": [
    "class DecoderLayer(nn.Module):\n",
    "    def __init__(self, hid_dim, n_heads, pf_dim, dropout, device):\n",
    "        super().__init__()\n",
    "        \n",
    "        self.self_attn_layer_norm = nn.LayerNorm(hid_dim)\n",
    "        self.enc_attn_layer_norm = nn.LayerNorm(hid_dim)\n",
    "        self.ff_layer_norm = nn.LayerNorm(hid_dim)\n",
    "        self.self_attention = MultiHeadAttentionLayer(hid_dim, n_heads, dropout, device)\n",
    "        self.encoder_attention = MultiHeadAttentionLayer(hid_dim, n_heads, dropout, device)\n",
    "        self.positionwise_feedforward = PositionwiseFeedforwardLayer(hid_dim, pf_dim, dropout)\n",
    "        self.dropout = nn.Dropout(dropout)\n",
    "        \n",
    "    def forward(self, trg, enc_src, trg_mask, src_mask):\n",
    "        \n",
    "        #trg = [batch size, trg len, hid dim]\n",
    "        #enc_src = [batch size, src len, hid dim] : encoder final output\n",
    "        #trg_mask = [batch size, 1, trg len, trg len]\n",
    "        #src_mask = [batch size, 1, 1, src len]\n",
    "        \n",
    "        #self attention : masked self attention\n",
    "        _trg, _ = self.self_attention(trg, trg, trg, trg_mask) #trg_mask - < PAD > mask, look-ahead mask\n",
    "        \n",
    "        #dropout, residual connection and layer norm\n",
    "        trg = self.self_attn_layer_norm(trg + self.dropout(_trg))\n",
    "            \n",
    "        #trg = [batch size, trg len, hid dim]\n",
    "            \n",
    "        #encoder attention\n",
    "        _trg, attention = self.encoder_attention(trg, enc_src, enc_src, src_mask) #src_mask - <PAD> mask\n",
    "        \n",
    "        #dropout, residual connection and layer norm\n",
    "        trg = self.enc_attn_layer_norm(trg + self.dropout(_trg))\n",
    "                    \n",
    "        # trg = [batch size, trg len, hid dim]\n",
    "        \n",
    "        #positionwise feedforward\n",
    "        _trg = self.positionwise_feedforward(trg)\n",
    "        \n",
    "        #dropout, residual and layer norm\n",
    "        trg = self.ff_layer_norm(trg + self.dropout(_trg))\n",
    "        \n",
    "        #trg = [batch size, trg len, hid dim]\n",
    "        #attention = [batch size, n heads, trg len, src len]\n",
    "        \n",
    "        return trg, attention"
   ]
  },
  {
   "cell_type": "markdown",
   "metadata": {},
   "source": [
    "### 트랜스포머(Transformer) 아키텍처\n",
    "* 최종적인 전체 트랜스포머(Transformer) 모델을 정의합니다.\n",
    "* 입력이 들어왔을 때 앞서 정의한 인코더와 디코더를 거쳐 출력 문장을 생성합니다.\n",
    "\n",
    "`torch.tril` - look-ahead mask 생성에 사용되는 torch 메서드  \n",
    "  \n",
    "example - `torch.tril(torch.ones((5, 5)))`\n",
    "$$\\begin{matrix}\n",
    "1 & 0 & 0 & 0 & 0\\\\\n",
    "1 & 1 & 0 & 0 & 0\\\\\n",
    "1 & 1 & 1 & 0 & 0\\\\\n",
    "1 & 1 & 1 & 1 & 0\\\\\n",
    "1 & 1 & 1 & 1 & 1\\\\\n",
    "\\end{matrix}$$"
   ]
  },
  {
   "cell_type": "code",
   "execution_count": 21,
   "metadata": {},
   "outputs": [],
   "source": [
    "class transformer(nn.Module):\n",
    "    def __init__(self, encoder, decoder, src_pad_idx, trg_pad_idx, device):\n",
    "        super().__init__()\n",
    "        \n",
    "        self.encoder = encoder\n",
    "        self.decoder = decoder\n",
    "        self.src_pad_idx = src_pad_idx\n",
    "        self.trg_pad_idx = trg_pad_idx\n",
    "        self.device = device\n",
    "    \n",
    "    # 소스 문장의 <pad> 토큰에 대하여 마스크(mask) 값을 0으로 설정\n",
    "    def make_src_mask(self, src):\n",
    "        \n",
    "        #src = [batch size, src len]\n",
    "        src_mask = (src != self.src_pad_idx).unsqueeze(1).unsqueeze(2)\n",
    "        #src_mask = [batch size, 1, 1, src len]\n",
    "\n",
    "        return src_mask\n",
    "    \n",
    "    # 타겟 문장에서 각 단어는 다음 단어가 무엇인지 알 수 없도록(이전 단어만 보도록) 만들기 위해 마스크를 사용\n",
    "    def make_trg_mask(self, trg):\n",
    "        \n",
    "        #trg = [batch size, trg len]\n",
    "        \n",
    "        trg_pad_mask = (trg != self.trg_pad_idx).unsqueeze(1).unsqueeze(2)\n",
    "        \n",
    "        #trg_pad_mask = [batch size, 1, 1, trg len]\n",
    "        \n",
    "        trg_len = trg.shape[1]\n",
    "        \n",
    "        trg_sub_mask = torch.tril(torch.ones((trg_len, trg_len), device = self.device)).bool() #boolean tensor로 변환\n",
    "        \n",
    "        #trg_sub_mask = [trg len, trg len]\n",
    "            \n",
    "        trg_mask = trg_pad_mask & trg_sub_mask # <PAD>mask + look-ahead mask\n",
    "        \n",
    "        #trg_mask = [batch size, 1, trg len, trg len]\n",
    "        \n",
    "        return trg_mask\n",
    "\n",
    "    def forward(self, src, trg):\n",
    "        \n",
    "        #src = [batch size, src len]\n",
    "        #trg = [batch size, trg len]\n",
    "                \n",
    "        src_mask = self.make_src_mask(src)\n",
    "        trg_mask = self.make_trg_mask(trg)\n",
    "        \n",
    "        #src_mask = [batch size, 1, 1, src len]\n",
    "        #trg_mask = [batch size, 1, trg len, trg len]\n",
    "        \n",
    "        enc_src = self.encoder(src, src_mask)\n",
    "        \n",
    "        #enc_src = [batch size, src len, hid dim]\n",
    "                \n",
    "        output, attention = self.decoder(trg, enc_src, trg_mask, src_mask)\n",
    "        \n",
    "        #output = [batch size, trg len, output dim]\n",
    "        #attention = [batch size, n heads, trg len, src len]\n",
    "        \n",
    "        return output, attention"
   ]
  },
  {
   "cell_type": "markdown",
   "metadata": {},
   "source": [
    "### 학습(Training)\n",
    "* 하이퍼 파라미터 설정 및 모델 초기화\n",
    "* encoder와 decoder 정의"
   ]
  },
  {
   "cell_type": "code",
   "execution_count": 22,
   "metadata": {},
   "outputs": [],
   "source": [
    "INPUT_DIM = len(SRC.vocab) # source의 vocab 개수\n",
    "OUTPUT_DIM = len(TRG.vocab) # target의 vocab 개수\n",
    "HID_DIM = 256 # 인코더 디코더의 hidden dimension\n",
    "ENC_LAYERS = 3 # 인코더의 layer 개수\n",
    "DEC_LAYERS = 3 # 디코더의 layer 개수\n",
    "ENC_HEADS = 8 # 인코더의 attention 해드의 갯수 ( scaled dot product attention 연산 횟수 )\n",
    "DEC_HEADS = 8 # 디코더의 attention 해드의 갯수 ( scaled dot product attention 연산 횟수 )\n",
    "ENC_PF_DIM = 512 # 인코더의 position wied FFNN의 차원수\n",
    "DEC_PF_DIM = 512 # 디코더의 position wied FFNN의 차원수\n",
    "ENC_DROPOUT = 0.1 # 인코더의 dropout rate\n",
    "DEC_DROPOUT = 0.1 # 디코더의 dropout rate\n",
    "\n",
    "enc = Encoder(INPUT_DIM, \n",
    "              HID_DIM, \n",
    "              ENC_LAYERS, \n",
    "              ENC_HEADS, \n",
    "              ENC_PF_DIM, \n",
    "              ENC_DROPOUT, \n",
    "              device)\n",
    "\n",
    "dec = Decoder(OUTPUT_DIM, \n",
    "              HID_DIM, \n",
    "              DEC_LAYERS, \n",
    "              DEC_HEADS, \n",
    "              DEC_PF_DIM, \n",
    "              DEC_DROPOUT, \n",
    "              device)"
   ]
  },
  {
   "cell_type": "code",
   "execution_count": 23,
   "metadata": {},
   "outputs": [],
   "source": [
    "SRC_PAD_IDX = SRC.vocab.stoi[SRC.pad_token] # SRC_PAD_IDX = 1\n",
    "TRG_PAD_IDX = TRG.vocab.stoi[TRG.pad_token] # TRG_PAD_IDX = 1\n",
    "\n",
    "model = transformer(enc, dec, SRC_PAD_IDX, TRG_PAD_IDX, device).to(device)"
   ]
  },
  {
   "cell_type": "code",
   "execution_count": 24,
   "metadata": {},
   "outputs": [
    {
     "name": "stdout",
     "output_type": "stream",
     "text": [
      "The model has 9,038,341 trainable parameters\n"
     ]
    }
   ],
   "source": [
    "def count_parameters(model):\n",
    "    # requires_grad : parameter 에 기울기가 필요한 경우 True, 즉 학습 가능한 paramerter라는 의미\n",
    "    # torch.numel() : Returns the total number of elements in the tensor.\n",
    "    return sum(p.numel() for p in model.parameters() if p.requires_grad) \n",
    "    \n",
    "print(f'The model has {count_parameters(model):,} trainable parameters')"
   ]
  },
  {
   "cell_type": "markdown",
   "metadata": {},
   "source": [
    "* 모델 파라미터 초기화(xavier)\n",
    "    * gradient의 소실이나 폭발을 방지 하고 안정적인 gradient를 얻기 위함 "
   ]
  },
  {
   "cell_type": "code",
   "execution_count": 25,
   "metadata": {},
   "outputs": [],
   "source": [
    "def initialize_weights(m):\n",
    "    if hasattr(m, 'weight') and m.weight.dim() > 1:\n",
    "        nn.init.xavier_uniform_(m.weight.data)\n",
    "        "
   ]
  },
  {
   "cell_type": "code",
   "execution_count": 26,
   "metadata": {},
   "outputs": [],
   "source": [
    "#nn.module.apply(fn) fn은 모든 하위모듈과 self로 정의된 parameter에 적용된다.\n",
    "#일반적으로 모델의 매개변수 초기화의 용도로 사용\n",
    "model.apply(initialize_weights); "
   ]
  },
  {
   "cell_type": "markdown",
   "metadata": {},
   "source": [
    "* 학습 및 평가 함수 정의\n",
    "    * 추론 단계에서는 기본적인 seq2seq모델과 유사"
   ]
  },
  {
   "cell_type": "code",
   "execution_count": 27,
   "metadata": {},
   "outputs": [],
   "source": [
    "LEARNING_RATE = 0.0005\n",
    "# Adam optimizer로 학습 최적화\n",
    "optimizer = torch.optim.Adam(model.parameters(), lr = LEARNING_RATE)\n",
    "# 뒷 부분의 패딩(padding)에 대해서는 값 무시\n",
    "# [0, C]까지의 class index가 있을때(vocab index) <pad> index에 대해서는 loss계산에 포함되지 않도록 한다.\n",
    "criterion = nn.CrossEntropyLoss(ignore_index = TRG_PAD_IDX)"
   ]
  },
  {
   "cell_type": "code",
   "execution_count": 28,
   "metadata": {},
   "outputs": [],
   "source": [
    "def train(model, iterator, optimizer, criterion, clip):\n",
    "    \n",
    "    model.train()\n",
    "    \n",
    "    epoch_loss = 0\n",
    "    \n",
    "    for i, batch in enumerate(iterator):\n",
    "        \n",
    "        src = batch.src # [sos, x1, x2, ..., xn, eos, pad, pad]\n",
    "        trg = batch.trg # [sos, x1, x2, ..., xm, eos, pad, pad]\n",
    "        optimizer.zero_grad()\n",
    "        \n",
    "        #trg[:,:-1] 마지막pad 토큰을 예측해야 하므로 제외 [sos, X1, x2, ..., xm, eos, pad] \n",
    "        #outout = [y1, y2, ... ym, ...,eos, pad, pad]\n",
    "        output, _ = model(src, trg[:,:-1]) # output, attention(decoder의 최종 encoder-decoder attention값)\n",
    "        \n",
    "        #output = [batch size, trg len - 1, output dim] #<sos>토큰 이후부터 예측을 시작하므로\n",
    "        #trg = [batch size, trg len]\n",
    "            \n",
    "        output_dim = output.shape[-1]\n",
    "        \n",
    "        # 모든 배치에 대해서 loss를 계산하기 위한 view()\n",
    "        # transformer 연산으로 contiguous가 깨졌으므로 contiguous() 수행\n",
    "        output = output.contiguous().view(-1, output_dim)\n",
    "        trg = trg[:,1:].contiguous().view(-1) #trg[:,1:] <sos>토큰은 처음 입력으로 주어지는 값이므로 제외\n",
    "                \n",
    "        #output = [batch size * trg len - 1, output dim] <sos>토큰을 제외하고 예측\n",
    "        #trg = [batch size * trg len - 1] <sos>토큰 제외\n",
    "        \n",
    "        # 모델의 출력 결과와 타겟 문장을 비교하여 손실 계산\n",
    "        loss = criterion(output, trg)\n",
    "        # 기울기(gradient) 계산\n",
    "        loss.backward()\n",
    "        \n",
    "        # 기울기(gradient) clipping 진행\n",
    "        torch.nn.utils.clip_grad_norm_(model.parameters(), clip)\n",
    "        \n",
    "        # 파라미터 업데이트\n",
    "        optimizer.step()\n",
    "        \n",
    "        #epoch전체 손실값 계산\n",
    "        epoch_loss += loss.item()\n",
    "        \n",
    "    return epoch_loss / len(iterator)"
   ]
  },
  {
   "cell_type": "code",
   "execution_count": 29,
   "metadata": {},
   "outputs": [],
   "source": [
    "# 모델 평가(evaluate) 함수\n",
    "def evaluate(model, iterator, criterion):\n",
    "    \n",
    "    model.eval()# 평가 모드\n",
    "    \n",
    "    epoch_loss = 0\n",
    "    \n",
    "    with torch.no_grad():\n",
    "    \n",
    "        for i, batch in enumerate(iterator):\n",
    "\n",
    "            src = batch.src\n",
    "            trg = batch.trg\n",
    "\n",
    "            output, _ = model(src, trg[:,:-1])\n",
    "            \n",
    "            #output = [batch size, trg len - 1, output dim]\n",
    "            #trg = [batch size, trg len]\n",
    "            \n",
    "            output_dim = output.shape[-1]\n",
    "            \n",
    "            # 모든 배치에 대해서 loss를 계산하기 위한 view()\n",
    "            # transformer 연산으로 contiguous가 깨졌으므로 contiguous() 수행\n",
    "            output = output.contiguous().view(-1, output_dim)\n",
    "            trg = trg[:,1:].contiguous().view(-1) #trg[:,1:] <sos>토큰은 처음 입력으로 주어지는 값이므로 제외\n",
    "            \n",
    "            #output = [batch size * trg len - 1, output dim]\n",
    "            #trg = [batch size * trg len - 1]\n",
    "            \n",
    "            # 모델의 출력 결과와 타겟 문장을 비교하여 손실 계산\n",
    "            loss = criterion(output, trg)\n",
    "            \n",
    "            #epoch전체 손실값 계산\n",
    "            epoch_loss += loss.item()\n",
    "        \n",
    "    return epoch_loss / len(iterator)"
   ]
  },
  {
   "cell_type": "code",
   "execution_count": 30,
   "metadata": {},
   "outputs": [],
   "source": [
    "def epoch_time(start_time, end_time):\n",
    "    elapsed_time = end_time - start_time\n",
    "    elapsed_mins = int(elapsed_time / 60)\n",
    "    elapsed_secs = int(elapsed_time - (elapsed_mins * 60))\n",
    "    return elapsed_mins, elapsed_secs"
   ]
  },
  {
   "cell_type": "markdown",
   "metadata": {},
   "source": [
    "* 학습(training) 및 검증(validation) 진행\n",
    "    * 학습 횟수(epoch): 10"
   ]
  },
  {
   "cell_type": "code",
   "execution_count": 31,
   "metadata": {},
   "outputs": [
    {
     "name": "stdout",
     "output_type": "stream",
     "text": [
      "Epoch: 01 | Time: 0m 13s\n",
      "\tTrain Loss: 4.230 | Train PPL:  68.748\n",
      "\t Val. Loss: 3.027 |  Val. PPL:  20.637\n",
      "Epoch: 02 | Time: 0m 13s\n",
      "\tTrain Loss: 2.822 | Train PPL:  16.817\n",
      "\t Val. Loss: 2.298 |  Val. PPL:   9.954\n",
      "Epoch: 03 | Time: 0m 13s\n",
      "\tTrain Loss: 2.241 | Train PPL:   9.400\n",
      "\t Val. Loss: 1.981 |  Val. PPL:   7.248\n",
      "Epoch: 04 | Time: 0m 13s\n",
      "\tTrain Loss: 1.890 | Train PPL:   6.617\n",
      "\t Val. Loss: 1.799 |  Val. PPL:   6.043\n",
      "Epoch: 05 | Time: 0m 13s\n",
      "\tTrain Loss: 1.644 | Train PPL:   5.174\n",
      "\t Val. Loss: 1.711 |  Val. PPL:   5.536\n",
      "Epoch: 06 | Time: 0m 13s\n",
      "\tTrain Loss: 1.455 | Train PPL:   4.284\n",
      "\t Val. Loss: 1.647 |  Val. PPL:   5.192\n",
      "Epoch: 07 | Time: 0m 13s\n",
      "\tTrain Loss: 1.304 | Train PPL:   3.685\n",
      "\t Val. Loss: 1.623 |  Val. PPL:   5.070\n",
      "Epoch: 08 | Time: 0m 13s\n",
      "\tTrain Loss: 1.181 | Train PPL:   3.258\n",
      "\t Val. Loss: 1.602 |  Val. PPL:   4.961\n",
      "Epoch: 09 | Time: 0m 13s\n",
      "\tTrain Loss: 1.071 | Train PPL:   2.919\n",
      "\t Val. Loss: 1.614 |  Val. PPL:   5.024\n",
      "Epoch: 10 | Time: 0m 13s\n",
      "\tTrain Loss: 0.975 | Train PPL:   2.652\n",
      "\t Val. Loss: 1.637 |  Val. PPL:   5.139\n"
     ]
    }
   ],
   "source": [
    "N_EPOCHS = 10\n",
    "CLIP = 1\n",
    "\n",
    "best_valid_loss = float('inf')\n",
    "\n",
    "for epoch in range(N_EPOCHS):\n",
    "    \n",
    "    start_time = time.time()\n",
    "    \n",
    "    train_loss = train(model, train_iterator, optimizer, criterion, CLIP)\n",
    "    valid_loss = evaluate(model, valid_iterator, criterion)\n",
    "    \n",
    "    end_time = time.time()\n",
    "    \n",
    "    epoch_mins, epoch_secs = epoch_time(start_time, end_time)\n",
    "    \n",
    "    #validation loss가 가장 작은 모델 저장\n",
    "    if valid_loss < best_valid_loss:\n",
    "        best_valid_loss = valid_loss\n",
    "        torch.save(model.state_dict(), 'model.pt')\n",
    "    \n",
    "    print(f'Epoch: {epoch+1:02} | Time: {epoch_mins}m {epoch_secs}s')\n",
    "    print(f'\\tTrain Loss: {train_loss:.3f} | Train PPL: {math.exp(train_loss):7.3f}')\n",
    "    print(f'\\t Val. Loss: {valid_loss:.3f} |  Val. PPL: {math.exp(valid_loss):7.3f}')"
   ]
  },
  {
   "cell_type": "code",
   "execution_count": 32,
   "metadata": {},
   "outputs": [
    {
     "name": "stdout",
     "output_type": "stream",
     "text": [
      "| Test Loss: 1.665 | Test PPL:   5.285 |\n"
     ]
    }
   ],
   "source": [
    "model.load_state_dict(torch.load('model.pt'))\n",
    "\n",
    "test_loss = evaluate(model, test_iterator, criterion)\n",
    "\n",
    "print(f'| Test Loss: {test_loss:.3f} | Test PPL: {math.exp(test_loss):7.3f} |')"
   ]
  },
  {
   "cell_type": "markdown",
   "metadata": {},
   "source": [
    "### Inference\n",
    "\n",
    "* 테스트 데이터셋을 이요해 모델 테스트 진행\n",
    "* 모델 테스트를 위한 번역 함수 정의"
   ]
  },
  {
   "cell_type": "code",
   "execution_count": 33,
   "metadata": {},
   "outputs": [],
   "source": [
    "def translate_sentence(sentence, src_field, trg_field, model, device, max_len = 50):\n",
    "    \n",
    "    model.eval() # 평가 모드\n",
    "    \n",
    "    #tokenize가 되지 않은 sentance라면\n",
    "    if isinstance(sentence, str):\n",
    "        nlp = spacy.load('de_core_news_sm')\n",
    "        tokens = [token.text.lower() for token in nlp(sentence)]\n",
    "    #tokenize된 list 라면\n",
    "    else:\n",
    "        tokens = [token.lower() for token in sentence]\n",
    "\n",
    "    # 처음에 <sos> 토큰, 마지막에 <eos> 토큰 붙이기\n",
    "    tokens = [src_field.init_token] + tokens + [src_field.eos_token]\n",
    "    \n",
    "    #torchtext.vocab stoi – 토큰 문자열을 숫자 식별자에 매핑하는 collections.defaultdict 인스턴스.\n",
    "    src_indexes = [src_field.vocab.stoi[token] for token in tokens]\n",
    "    # src_indexes - [seq_len]\n",
    "\n",
    "    src_tensor = torch.LongTensor(src_indexes).unsqueeze(0).to(device)\n",
    "    # src_tensor - [1 num_sentence(batch_size), seq_len]\n",
    "\n",
    "    # 소스 문장에 따른 마스크 생성\n",
    "    src_mask = model.make_src_mask(src_tensor)\n",
    "    # 인코더(endocer)에 소스 문장을 넣어 출력 값 구하기\n",
    "    with torch.no_grad():\n",
    "        enc_src = model.encoder(src_tensor, src_mask)\n",
    "    \n",
    "    # 처음에는 <sos> 토큰 하나만 가지고 있도록 하기\n",
    "    trg_indexes = [trg_field.vocab.stoi[trg_field.init_token]]\n",
    "\n",
    "    for i in range(max_len):\n",
    "        \n",
    "        trg_tensor = torch.LongTensor(trg_indexes).unsqueeze(0).to(device)\n",
    "        # src_tensor - [1 num_data(batch_size), seq_len]\n",
    "\n",
    "        # 출력 문장에 따른 마스크 생성\n",
    "        trg_mask = model.make_trg_mask(trg_tensor)\n",
    "        \n",
    "        with torch.no_grad():\n",
    "            output, attention = model.decoder(trg_tensor, enc_src, trg_mask, src_mask)\n",
    "        #output = [batch size, trg len, output dim]\n",
    "        \n",
    "        output.argmax(2) #[1 num_sentence(batch size), len(trg_tensor)]\n",
    "       \n",
    "        # 출력 문장에서 가장 마지막 단어만 사용\n",
    "        pred_token = output.argmax(2)[:,-1].item()\n",
    "        \n",
    "        # trg_indexes에 예측 토큰 인덱스 추가\n",
    "        trg_indexes.append(pred_token)\n",
    "        \n",
    "        # <eos>를 만나는 순간 끝 string_to_index\n",
    "        if pred_token == trg_field.vocab.stoi[trg_field.eos_token]:\n",
    "            break\n",
    "            \n",
    "    # 각 출력 단어 인덱스를 실제 단어로 변환 index to string\n",
    "    trg_tokens = [trg_field.vocab.itos[i] for i in trg_indexes]\n",
    "\n",
    "    # 첫 번째 <sos>는 제외하고 출력 문장 반환\n",
    "    return trg_tokens[1:], attention"
   ]
  },
  {
   "cell_type": "markdown",
   "metadata": {},
   "source": [
    "* 어텐션 가중치(Attention weight) 시각화 함수\n",
    "    * 디코더의 encoder-decoer attention의 attention weight시각화"
   ]
  },
  {
   "cell_type": "code",
   "execution_count": 34,
   "metadata": {},
   "outputs": [],
   "source": [
    "def display_attention(sentence, translation, attention, n_heads = 8, n_rows = 4, n_cols = 2):\n",
    "    \n",
    "    assert n_rows * n_cols == n_heads\n",
    "    \n",
    "    #matplotlib figure object생성\n",
    "    fig = plt.figure(figsize=(15,25))\n",
    "    for i in range(n_heads):\n",
    "        \n",
    "        #matplotlib Subplot 생성\n",
    "        ax = fig.add_subplot(n_rows, n_cols, i+1)\n",
    "\n",
    "        # attention = [1, num_head, len_src, len_trg] \n",
    "        # attention score를 soft_max함수를 거쳐 구한 attention_distribution(attnetion_weight)\n",
    "        # detach()는 이 연산 기록(graph)으로 부터 분리한 tensor을 반환\n",
    "        # .cpu() GPU 메모리에 올려져 있는 tensor를 cpu 메모리로 복사하는 method\n",
    "        _attention = attention.squeeze(0)[i].detach().cpu().numpy()\n",
    "        #_attention = [len_src, len_trg]\n",
    "        \n",
    "        #attention distribution(attention weight)시각화\n",
    "        #AxesSubplot.matshow - Plot the values of a 2D matrix or array as color-coded image.\n",
    "        cax = ax.matshow(_attention, cmap='bone')\n",
    "        \n",
    "        # figure.colorbar - Add a colorbar to a plot\n",
    "        fig.colorbar(cax)\n",
    "        ax.tick_params(labelsize=12) #label 크기 조절\n",
    "        #앞에 빈공간이 있어야함 <sos>토큰과 <eos>토큰은 전처리(Field) 후에 붙음\n",
    "        ax.set_xticklabels(['']+['<sos>']+[t.lower() for t in sentence]+['<eos>'], \n",
    "                           rotation=45)\n",
    "        ax.set_yticklabels(['']+translation)\n",
    "\n",
    "        ax.xaxis.set_major_locator(ticker.MultipleLocator(1)) #1의 간격으로 label을 배치\n",
    "        ax.yaxis.set_major_locator(ticker.MultipleLocator(1)) #1의 간격으로 label을 배치\n",
    "\n",
    "    plt.show() # Display all open figures.\n",
    "    plt.close() # Close a figure window."
   ]
  },
  {
   "cell_type": "code",
   "execution_count": 35,
   "metadata": {},
   "outputs": [
    {
     "name": "stdout",
     "output_type": "stream",
     "text": [
      "src = ['ein', 'brauner', 'hund', 'rennt', 'dem', 'schwarzen', 'hund', 'hinterher', '.']\n",
      "trg = ['a', 'brown', 'dog', 'is', 'running', 'after', 'the', 'black', 'dog', '.']\n"
     ]
    }
   ],
   "source": [
    "example_idx = 6\n",
    "\n",
    "src = vars(valid_data.examples[example_idx])['src']\n",
    "trg = vars(valid_data.examples[example_idx])['trg']\n",
    "\n",
    "print(f'src = {src}')\n",
    "print(f'trg = {trg}')"
   ]
  },
  {
   "cell_type": "code",
   "execution_count": 36,
   "metadata": {},
   "outputs": [
    {
     "name": "stdout",
     "output_type": "stream",
     "text": [
      "predicted trg = ['a', 'brown', 'dog', 'runs', 'after', 'the', 'black', 'dog', '.', '<eos>']\n"
     ]
    }
   ],
   "source": [
    "translation, attention = translate_sentence(src, SRC, TRG, model, device)\n",
    "\n",
    "print(f'predicted trg = {translation}')"
   ]
  },
  {
   "cell_type": "code",
   "execution_count": 37,
   "metadata": {},
   "outputs": [
    {
     "name": "stderr",
     "output_type": "stream",
     "text": [
      "/tmp/ipykernel_23809/3519639228.py:27: UserWarning: FixedFormatter should only be used together with FixedLocator\n",
      "  ax.set_xticklabels(['']+['<sos>']+[t.lower() for t in sentence]+['<eos>'],\n",
      "/tmp/ipykernel_23809/3519639228.py:29: UserWarning: FixedFormatter should only be used together with FixedLocator\n",
      "  ax.set_yticklabels(['']+translation)\n"
     ]
    },
    {
     "data": {
      "image/png": "[encoded data removed]",
      "text/plain": [
       "<Figure size 1080x1800 with 16 Axes>"
      ]
     },
     "metadata": {
      "needs_background": "light"
     },
     "output_type": "display_data"
    }
   ],
   "source": [
    "display_attention(src, translation, attention)"
   ]
  },
  {
   "cell_type": "markdown",
   "metadata": {},
   "source": [
    "### BLEU(Bilingual Evaluation Understudy) Score계산\n",
    "\n",
    "* 학습된 트랜스포머(transformer) 모델의 BLUE 스코어 계산"
   ]
  },
  {
   "cell_type": "code",
   "execution_count": 38,
   "metadata": {},
   "outputs": [],
   "source": [
    "from torchtext.data.metrics import bleu_score\n",
    "\n",
    "def calculate_bleu(data, src_field, trg_field, model, device, max_len = 50):\n",
    "    \n",
    "    trgs = []\n",
    "    pred_trgs = []\n",
    "    \n",
    "    for datum in data:\n",
    "        \n",
    "        #vars : 객체의 __dict__ 속성 반환\n",
    "        #{'src': ['ein', 'mann', 'mit', 'einem', 'orangefarbenen', 'hut', ',', 'der', 'etwas', 'anstarrt', '.'], \n",
    "        # 'trg': ['a', 'man', 'in', 'an', 'orange', 'hat', 'starring', 'at', 'something', '.']}\n",
    "        src = vars(datum)['src']\n",
    "        trg = vars(datum)['trg']\n",
    "        \n",
    "        pred_trg, _ = translate_sentence(src, src_field, trg_field, model, device, max_len)\n",
    "        \n",
    "        #cut off <eos> token\n",
    "        pred_trg = pred_trg[:-1]\n",
    "        \n",
    "        pred_trgs.append(pred_trg)\n",
    "        trgs.append([trg])\n",
    "        \n",
    "    return bleu_score(pred_trgs, trgs)"
   ]
  },
  {
   "cell_type": "code",
   "execution_count": 39,
   "metadata": {},
   "outputs": [
    {
     "name": "stdout",
     "output_type": "stream",
     "text": [
      "BLEU score = 35.50\n"
     ]
    }
   ],
   "source": [
    "bleu_score = calculate_bleu(test_data, SRC, TRG, model, device)\n",
    "\n",
    "print(f'BLEU score = {bleu_score*100:.2f}')"
   ]
  },
  {
   "cell_type": "code",
   "execution_count": null,
   "metadata": {},
   "outputs": [],
   "source": []
  }
 ],
 "metadata": {
  "kernelspec": {
   "display_name": "Python [conda env:transformer]",
   "language": "python",
   "name": "conda-env-transformer-py"
  },
  "language_info": {
   "codemirror_mode": {
    "name": "ipython",
    "version": 3
   },
   "file_extension": ".py",
   "mimetype": "text/x-python",
   "name": "python",
   "nbconvert_exporter": "python",
   "pygments_lexer": "ipython3",
   "version": "3.8.12"
  }
 },
 "nbformat": 4,
 "nbformat_minor": 2
}
